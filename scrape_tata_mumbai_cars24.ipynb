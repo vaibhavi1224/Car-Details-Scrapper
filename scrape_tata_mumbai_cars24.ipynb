{
  "cells": [
    {
      "cell_type": "code",
      "execution_count": 1,
      "metadata": {
        "trusted": true
      },
      "outputs": [
        {
          "name": "stdout",
          "output_type": "stream",
          "text": [
            "Total results: 35\n",
            "Data saved to C:\\Users\\Vaibhavi\\Desktop\\tata-vk.csv\n"
          ]
        }
      ],
      "source": [
        "# Import necessary libraries\n",
        "from selenium import webdriver\n",
        "from bs4 import BeautifulSoup\n",
        "import pandas as pd\n",
        "import time\n",
        "\n",
        "# Initialize Chrome WebDriver\n",
        "driver = webdriver.Chrome()\n",
        "\n",
        "# Navigate to the Cars24 website with the specified filters\n",
        "url = 'https://www.cars24.com/buy-used-car?f=make%3A%3D%3Atata&sort=bestmatch&serveWarrantyCount=true&storeCityId=2378'\n",
        "driver.get(url)\n",
        "\n",
        "# Wait for the page to load completely\n",
        "time.sleep(5)  # adjust this delay based on your internet speed and page loading time\n",
        "\n",
        "# Scroll down to the bottom of the page to load more results (if any)\n",
        "driver.execute_script(\"window.scrollTo(0, document.body.scrollHeight);\")\n",
        "time.sleep(5)  # wait for new elements to load\n",
        "\n",
        "# Get the page source after scrolling\n",
        "page_source = driver.page_source\n",
        "\n",
        "# Parse the page source using BeautifulSoup\n",
        "soup = BeautifulSoup(page_source, 'html.parser')\n",
        "\n",
        "# Find all car results on the page\n",
        "results = soup.find_all('div', {'class': '_2YB7p'})\n",
        "print(f'Total results: {len(results)}')\n",
        "\n",
        "# Initialize an empty list to store car data\n",
        "car_data = []\n",
        "\n",
        "# Iterate over each car result and extract relevant information\n",
        "for result in results:\n",
        "    # Extract car name\n",
        "    name = result.find('h3', {'class': '_11dVb'}).get_text() if result.find('h3', {'class': '_11dVb'}) else 'N/A'\n",
        "    \n",
        "    # Extract kilometers driven\n",
        "    kilometers = result.find('ul', {'class': '_3J2G-'}).find_all('li')[0].get_text() if result.find('ul', {'class': '_3J2G-'}).find_all('li') else 'N/A'\n",
        "    \n",
        "    # Extract fuel type\n",
        "    fuel = result.find('ul', {'class': '_3J2G-'}).find_all('li')[2].get_text() if len(result.find('ul', {'class': '_3J2G-'}).find_all('li')) > 2 else 'N/A'\n",
        "    \n",
        "    # Extract transmission type\n",
        "    transmission = result.find('ul', {'class': '_3J2G-'}).find_all('li')[4].get_text() if len(result.find('ul', {'class': '_3J2G-'}).find_all('li')) > 4 else 'N/A'\n",
        "    \n",
        "    # Extract price\n",
        "    price = result.find('strong', {'class': '_3RL-I'}).get_text() if result.find('strong', {'class': '_3RL-I'}) else 'N/A'\n",
        "    \n",
        "    # Extract EMI (if available)\n",
        "    emi = result.find('span', {'class': '_2O0yU'}).get_text() if result.find('span', {'class': '_2O0yU'}) else 'N/A'\n",
        "    \n",
        "    # Append extracted data as a dictionary to car_data list\n",
        "    car_data.append({\n",
        "        'Name': name,\n",
        "        'Kilometers Driven': kilometers,\n",
        "        'Fuel': fuel,\n",
        "        'Transmission': transmission,\n",
        "        'Price': price,\n",
        "        'EMI': emi\n",
        "    })\n",
        "\n",
        "# Close the WebDriver\n",
        "driver.quit()\n",
        "\n",
        "# Create a DataFrame from car_data list\n",
        "df = pd.DataFrame(car_data)\n",
        "\n",
        "# Specify the path where you want to save the CSV file\n",
        "csv_path = 'C:\\\\Users\\\\Vaibhavi\\\\Desktop\\\\tata-vk.csv'  # Replace with your desired path\n",
        "\n",
        "# Save the DataFrame to a CSV file without including the index\n",
        "df.to_csv(csv_path, index=False)\n",
        "\n",
        "# Print confirmation message\n",
        "print(f'Data saved to {csv_path}')"
      ]
    }
  ],
  "metadata": {
    "kernelspec": {
      "display_name": "Python 3",
      "language": "python",
      "name": "python3"
    },
    "language_info": {
      "codemirror_mode": {
        "name": "ipython",
        "version": 3
      },
      "file_extension": ".py",
      "mimetype": "text/x-python",
      "name": "python",
      "nbconvert_exporter": "python",
      "pygments_lexer": "ipython3",
      "version": "3.12.2"
    }
  },
  "nbformat": 4,
  "nbformat_minor": 4
}
